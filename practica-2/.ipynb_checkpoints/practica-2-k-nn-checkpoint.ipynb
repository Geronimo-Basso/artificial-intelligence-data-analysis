{
 "cells": [
  {
   "cell_type": "markdown",
   "metadata": {},
   "source": [
    "# Actividad 2 - Clasificación\n",
    "# Universidad Europea de Madrid\n",
    "Inteligencia Artificial<br>\n",
    "Isabel Sutil<br>\n",
    "M31<br>\n",
    "Jorge Javier Castilla Coello<br>\n",
    "Geronimo Basso Sosa<br>\n",
    "Luis Cabello Casquete<br>\n",
    "Paula Sáenz de Santa María Diez<br>\n",
    "Ana Esteban González<br>\n",
    "\n",
    "\n"
   ]
  },
  {
   "cell_type": "markdown",
   "metadata": {},
   "source": [
    "# Codigo en común utilizado por todos los apartados."
   ]
  },
  {
   "cell_type": "code",
   "execution_count": 1,
   "metadata": {
    "tags": []
   },
   "outputs": [],
   "source": [
    "import pandas as pd\n",
    "import matplotlib.pyplot as plt\n",
    "import seaborn as sns\n",
    "import numpy as np\n",
    "from sklearn.linear_model import LinearRegression\n",
    "from sklearn.neighbors import KNeighborsRegressor\n",
    "from sklearn.naive_bayes import GaussianNB\n",
    "from sklearn.neighbors import KNeighborsClassifier\n",
    "from sklearn.preprocessing import StandardScaler\n",
    "from sklearn.pipeline import Pipeline\n",
    "from sklearn.model_selection import train_test_split, cross_val_score, cross_val_predict, StratifiedKFold\n",
    "from sklearn.base import clone\n",
    "from sklearn import metrics\n",
    "from sklearn.metrics import confusion_matrix\n",
    "from tabulate import tabulate\n",
    "from scipy import stats\n",
    "from sklearn.tree import DecisionTreeRegressor\n",
    "from sklearn.tree import DecisionTreeRegressor\n",
    "from sklearn.pipeline import Pipeline\n",
    "from sklearn.base import clone\n",
    "from sklearn.model_selection import KFold\n",
    "from sklearn.svm import SVR\n",
    "from sklearn.pipeline import Pipeline\n",
    "from sklearn.model_selection import KFold\n",
    "from sklearn.pipeline import make_pipeline\n",
    "from sklearn.model_selection import GridSearchCV\n",
    "from sklearn.metrics import confusion_matrix, classification_report, accuracy_score\n",
    "from sklearn.metrics import make_scorer"
   ]
  },
  {
   "cell_type": "markdown",
   "metadata": {},
   "source": [
    "# Apartado 0\n",
    "Modificar el dataset para que cada vez que en \"prec\" se encuente el valor 0,0 se considere que no llueve, para los demas valores se va a considerar que si ha llovido"
   ]
  },
  {
   "cell_type": "code",
   "execution_count": 2,
   "metadata": {
    "tags": []
   },
   "outputs": [
    {
     "name": "stdout",
     "output_type": "stream",
     "text": [
      "       indicativo  altitud  tmed prec  tmin  tmax   dir  velmedia  racha  \\\n",
      "0             2.0     98.0  16.9   NO  12.0  21.8   1.0       3.1    8.3   \n",
      "1             2.0     98.0  20.5  YES  12.5  28.5  22.0       4.7   11.7   \n",
      "2             2.0     98.0  21.4   NO  17.6  25.1  22.0       2.2   10.3   \n",
      "3             2.0     98.0  21.4  YES  16.0  26.8  99.0       5.3   10.8   \n",
      "4             2.0     98.0  18.6   NO  15.7  21.6   4.0       3.9   11.7   \n",
      "...           ...      ...   ...  ...   ...   ...   ...       ...    ...   \n",
      "11531        11.0    255.0  12.2   NO   5.5  18.8   8.0       1.7    9.7   \n",
      "11532        11.0    255.0  11.2  YES   5.4  16.9  99.0       3.6    8.3   \n",
      "11533        11.0    255.0   9.8  YES   6.4  13.1  27.0       1.7    7.2   \n",
      "11534        11.0    255.0  11.7   NO   7.5  15.9  19.0       1.9    6.7   \n",
      "11535        11.0    255.0  10.6  YES   8.7  12.6  20.0       5.0   13.9   \n",
      "\n",
      "       presMax  presMin  \n",
      "0       1008.7   1003.9  \n",
      "1       1008.5   1005.5  \n",
      "2       1008.7   1006.1  \n",
      "3       1009.4   1005.4  \n",
      "4       1012.7   1009.3  \n",
      "...        ...      ...  \n",
      "11531    993.9    990.2  \n",
      "11532    990.8    986.9  \n",
      "11533    993.7    989.6  \n",
      "11534    996.0    992.8  \n",
      "11535    994.4    990.6  \n",
      "\n",
      "[11536 rows x 11 columns]\n"
     ]
    }
   ],
   "source": [
    "# Cargamos el fichero necesario para analizar el modelo.\n",
    "ruta_archivo = 'valores-climatologicos.csv'\n",
    "dataframe = pd.read_table(ruta_archivo, sep=',')\n",
    "\n",
    "#Utilizando una función lambda, para cada valor de ´prec´cambiamos su valor a 0 si la precipitación es 0\n",
    "#cambiamos el valor a 1 si la precipitación es disitnto de 0. Además, creamos un mapeo de indivaticos de provincia para tener valores de tipo int en esa columna envez de strings.\n",
    "dataframe['prec'] = dataframe['prec'].apply(lambda x: 'YES' if x > 0 else 'NO')\n",
    "states = ['1387E', '1387', '1393', '1351', '1400', '1437O', '1473A', '1428', '1475X', '1505', '1484', '1484C', '1495']\n",
    "state_map = {state: idx for idx, state in enumerate(sorted(set(states)))}\n",
    "dataframe['indicativo'] = dataframe['indicativo'].apply(lambda x: state_map[x])\n",
    "\n",
    "# Crear un data set especifico con valores de tipo float para que los modelos puedan entrenar mejor.\n",
    "# dataframe = dataframe.astype(float)\n",
    "columns_to_convert = ['indicativo', 'altitud', 'tmed', 'tmin', 'tmax', 'dir', 'velmedia', 'racha', 'presMax', 'presMin']\n",
    "\n",
    "# Converting each specified column to float\n",
    "for column in columns_to_convert:\n",
    "    dataframe[column] = dataframe[column].astype(float)\n",
    "\n",
    "# Convertir la columna 'prec' de 'float' a 'categorical'\n",
    "dataframe['prec'] = pd.Categorical(dataframe['prec'])\n",
    "print(dataframe)"
   ]
  },
  {
   "cell_type": "markdown",
   "metadata": {},
   "source": [
    "Utilizando una función lambda, para cada valor de ´prec´cambiamos su valor a 0 si la precipitación es 0\n",
    "cambiamos el valor a 1 si la precipitación es disitnto de 0. Además, creamos un mapeo de indivaticos de provincia para tener valores de tipo int en esa columna envez de strings."
   ]
  },
  {
   "cell_type": "markdown",
   "metadata": {},
   "source": [
    "# Crear el dataset de entrenamieno y validación, y además crear el cross validation."
   ]
  },
  {
   "cell_type": "code",
   "execution_count": 3,
   "metadata": {
    "tags": []
   },
   "outputs": [
    {
     "name": "stdout",
     "output_type": "stream",
     "text": [
      "Tamaño del conjunto de entrenamiento: 9228\n",
      "Tamaño del conjunto de validación: 2308\n"
     ]
    }
   ],
   "source": [
    "X = dataframe.drop('prec', axis=1)  # Features\n",
    "y = dataframe['prec']  # Variable de salida\n",
    "\n",
    "# División en 80/20 para entrenamiento y validación\n",
    "X_train, X_val, y_train, y_val = train_test_split(X, y, test_size=0.2, random_state=42)\n",
    "\n",
    "# Imprimir tamaños de los conjuntos\n",
    "print(\"Tamaño del conjunto de entrenamiento:\", len(X_train))\n",
    "print(\"Tamaño del conjunto de validación:\", len(X_val))\n",
    "\n",
    "# Crear conjuntos de entrenamiento y prueba\n",
    "conjunto_train = pd.concat([X_train, y_train], axis=1)\n",
    "conjunto_val = pd.concat([X_val, y_val], axis=1)\n",
    "\n",
    "# Creamos dos conjuntos para poner las predicciones del train y test\n",
    "conjunto_train_eval = conjunto_train.copy()\n",
    "conjunto_validation_eval = conjunto_val.copy()\n",
    "\n",
    "# Método de control (k-fold cross-validation)\n",
    "metodo_control_cv = StratifiedKFold(n_splits=10, shuffle=True, random_state=42)"
   ]
  },
  {
   "cell_type": "markdown",
   "metadata": {
    "tags": []
   },
   "source": [
    "# Apartado 3\n",
    "Análisis predictivo con KNN"
   ]
  },
  {
   "cell_type": "markdown",
   "metadata": {},
   "source": [
    "Entrenamos nuestro modelo con un tuneLength de 10"
   ]
  },
  {
   "cell_type": "code",
   "execution_count": 4,
   "metadata": {
    "tags": []
   },
   "outputs": [],
   "source": [
    "precision_train = {}\n",
    "precision_val = {}\n",
    "\n",
    "# Definir los parámetros que deseas ajustar\n",
    "param_grid = {'kneighborsclassifier__n_neighbors': list(range(1, 11))}\n",
    "\n",
    "# Establecer la semilla para reproducibilidad\n",
    "np.random.seed(150)"
   ]
  },
  {
   "cell_type": "code",
   "execution_count": 5,
   "metadata": {
    "tags": []
   },
   "outputs": [
    {
     "name": "stdout",
     "output_type": "stream",
     "text": [
      "Mejor modelo: Pipeline(steps=[('standardscaler', StandardScaler()),\n",
      "                ('kneighborsclassifier', KNeighborsClassifier(n_neighbors=9))])\n",
      "Precisión en el conjunto de entrenamiento: 0.8201127004768097\n",
      "Mejores parámetros: {'kneighborsclassifier__n_neighbors': 9}\n",
      "Mejor puntuación de validación cruzada (Accuracy): 0.7801237594094518\n",
      "                                      params  mean_test_score\n",
      "0   {'kneighborsclassifier__n_neighbors': 1}         0.735259\n",
      "1   {'kneighborsclassifier__n_neighbors': 2}         0.725943\n",
      "2   {'kneighborsclassifier__n_neighbors': 3}         0.764844\n",
      "3   {'kneighborsclassifier__n_neighbors': 4}         0.761053\n",
      "4   {'kneighborsclassifier__n_neighbors': 5}         0.772864\n",
      "5   {'kneighborsclassifier__n_neighbors': 6}         0.771022\n",
      "6   {'kneighborsclassifier__n_neighbors': 7}         0.778824\n",
      "7   {'kneighborsclassifier__n_neighbors': 8}         0.779582\n",
      "8   {'kneighborsclassifier__n_neighbors': 9}         0.780124\n",
      "9  {'kneighborsclassifier__n_neighbors': 10}         0.779691\n"
     ]
    }
   ],
   "source": [
    "# Definir el modelo KNN\n",
    "knn_model = KNeighborsClassifier()\n",
    "\n",
    "pipeline = make_pipeline(StandardScaler(), knn_model)\n",
    "\n",
    "# Entrenar el modelo con GridSearchCV para ajustar los hiperparámetros\n",
    "grid_search = GridSearchCV(pipeline, param_grid, scoring=make_scorer(accuracy_score), cv=metodo_control_cv)\n",
    "grid_search.fit(X_train, y_train)\n",
    "\n",
    "# Obtener el mejor modelo\n",
    "best_model = grid_search.best_estimator_\n",
    "\n",
    "# Imprimir resultados\n",
    "print(\"Mejor modelo:\", best_model)\n",
    "\n",
    "y_train_pred = best_model.predict(X_train)\n",
    "accuracy_train = accuracy_score(y_train, y_train_pred)\n",
    "\n",
    "print(\"Precisión en el conjunto de entrenamiento:\", accuracy_train)\n",
    "\n",
    "precision_train['knn_tuneLength_10'] = accuracy_train\n",
    "\n",
    "# Obtener los resultados del grid search\n",
    "resultados_df = pd.DataFrame(grid_search.cv_results_)\n",
    "\n",
    "# Imprimir información sobre el proceso de búsqueda\n",
    "print(\"Mejores parámetros:\", grid_search.best_params_)\n",
    "print(\"Mejor puntuación de validación cruzada (Accuracy):\", grid_search.best_score_)\n",
    "\n",
    "# Imprimir resultados de cada conjunto de parámetros\n",
    "print(resultados_df[['params', 'mean_test_score']])"
   ]
  },
  {
   "cell_type": "code",
   "execution_count": 6,
   "metadata": {
    "tags": []
   },
   "outputs": [
    {
     "name": "stdout",
     "output_type": "stream",
     "text": [
      "\n",
      "Fold 1:\n",
      "   kneighborsclassifier__n_neighbors=1, Accuracy=0.7400346620450606\n",
      "   kneighborsclassifier__n_neighbors=2, Accuracy=0.7417677642980935\n",
      "   kneighborsclassifier__n_neighbors=3, Accuracy=0.7729636048526863\n",
      "   kneighborsclassifier__n_neighbors=4, Accuracy=0.7746967071057193\n",
      "   kneighborsclassifier__n_neighbors=5, Accuracy=0.7859618717504333\n",
      "   kneighborsclassifier__n_neighbors=6, Accuracy=0.7790294627383015\n",
      "   kneighborsclassifier__n_neighbors=7, Accuracy=0.7807625649913345\n",
      "   kneighborsclassifier__n_neighbors=8, Accuracy=0.7781629116117851\n",
      "   kneighborsclassifier__n_neighbors=9, Accuracy=0.7781629116117851\n",
      "   kneighborsclassifier__n_neighbors=10, Accuracy=0.7833622183708839\n",
      "\n",
      "Fold 2:\n",
      "   kneighborsclassifier__n_neighbors=1, Accuracy=0.755632582322357\n",
      "   kneighborsclassifier__n_neighbors=2, Accuracy=0.7530329289428076\n",
      "   kneighborsclassifier__n_neighbors=3, Accuracy=0.7920277296360485\n",
      "   kneighborsclassifier__n_neighbors=4, Accuracy=0.7920277296360485\n",
      "   kneighborsclassifier__n_neighbors=5, Accuracy=0.7902946273830156\n",
      "   kneighborsclassifier__n_neighbors=6, Accuracy=0.7850953206239168\n",
      "   kneighborsclassifier__n_neighbors=7, Accuracy=0.7885615251299827\n",
      "   kneighborsclassifier__n_neighbors=8, Accuracy=0.7833622183708839\n",
      "   kneighborsclassifier__n_neighbors=9, Accuracy=0.7868284228769498\n",
      "   kneighborsclassifier__n_neighbors=10, Accuracy=0.7842287694974004\n",
      "\n",
      "Fold 3:\n",
      "   kneighborsclassifier__n_neighbors=1, Accuracy=0.7227036395147314\n",
      "   kneighborsclassifier__n_neighbors=2, Accuracy=0.7287694974003466\n",
      "   kneighborsclassifier__n_neighbors=3, Accuracy=0.7616984402079723\n",
      "   kneighborsclassifier__n_neighbors=4, Accuracy=0.7547660311958405\n",
      "   kneighborsclassifier__n_neighbors=5, Accuracy=0.7686308492201039\n",
      "   kneighborsclassifier__n_neighbors=6, Accuracy=0.7686308492201039\n",
      "   kneighborsclassifier__n_neighbors=7, Accuracy=0.7868284228769498\n",
      "   kneighborsclassifier__n_neighbors=8, Accuracy=0.7772963604852686\n",
      "   kneighborsclassifier__n_neighbors=9, Accuracy=0.7842287694974004\n",
      "   kneighborsclassifier__n_neighbors=10, Accuracy=0.7755632582322357\n",
      "\n",
      "Fold 4:\n",
      "   kneighborsclassifier__n_neighbors=1, Accuracy=0.7348353552859619\n",
      "   kneighborsclassifier__n_neighbors=2, Accuracy=0.7261698440207972\n",
      "   kneighborsclassifier__n_neighbors=3, Accuracy=0.7642980935875217\n",
      "   kneighborsclassifier__n_neighbors=4, Accuracy=0.755632582322357\n",
      "   kneighborsclassifier__n_neighbors=5, Accuracy=0.7738301559792028\n",
      "   kneighborsclassifier__n_neighbors=6, Accuracy=0.7729636048526863\n",
      "   kneighborsclassifier__n_neighbors=7, Accuracy=0.792894280762565\n",
      "   kneighborsclassifier__n_neighbors=8, Accuracy=0.7842287694974004\n",
      "   kneighborsclassifier__n_neighbors=9, Accuracy=0.7902946273830156\n",
      "   kneighborsclassifier__n_neighbors=10, Accuracy=0.792894280762565\n",
      "\n",
      "Fold 5:\n",
      "   kneighborsclassifier__n_neighbors=1, Accuracy=0.7140381282495667\n",
      "   kneighborsclassifier__n_neighbors=2, Accuracy=0.7114384748700173\n",
      "   kneighborsclassifier__n_neighbors=3, Accuracy=0.7512998266897747\n",
      "   kneighborsclassifier__n_neighbors=4, Accuracy=0.7487001733102253\n",
      "   kneighborsclassifier__n_neighbors=5, Accuracy=0.7608318890814558\n",
      "   kneighborsclassifier__n_neighbors=6, Accuracy=0.7590987868284229\n",
      "   kneighborsclassifier__n_neighbors=7, Accuracy=0.7642980935875217\n",
      "   kneighborsclassifier__n_neighbors=8, Accuracy=0.7660311958405546\n",
      "   kneighborsclassifier__n_neighbors=9, Accuracy=0.7634315424610052\n",
      "   kneighborsclassifier__n_neighbors=10, Accuracy=0.7738301559792028\n",
      "\n",
      "Fold 6:\n",
      "   kneighborsclassifier__n_neighbors=1, Accuracy=0.7478336221837089\n",
      "   kneighborsclassifier__n_neighbors=2, Accuracy=0.7175043327556326\n",
      "   kneighborsclassifier__n_neighbors=3, Accuracy=0.7720970537261699\n",
      "   kneighborsclassifier__n_neighbors=4, Accuracy=0.7634315424610052\n",
      "   kneighborsclassifier__n_neighbors=5, Accuracy=0.779896013864818\n",
      "   kneighborsclassifier__n_neighbors=6, Accuracy=0.7781629116117851\n",
      "   kneighborsclassifier__n_neighbors=7, Accuracy=0.7824956672443674\n",
      "   kneighborsclassifier__n_neighbors=8, Accuracy=0.7729636048526863\n",
      "   kneighborsclassifier__n_neighbors=9, Accuracy=0.7816291161178509\n",
      "   kneighborsclassifier__n_neighbors=10, Accuracy=0.7746967071057193\n",
      "\n",
      "Fold 7:\n",
      "   kneighborsclassifier__n_neighbors=1, Accuracy=0.7120555073720729\n",
      "   kneighborsclassifier__n_neighbors=2, Accuracy=0.7250650477016479\n",
      "   kneighborsclassifier__n_neighbors=3, Accuracy=0.7562879444926279\n",
      "   kneighborsclassifier__n_neighbors=4, Accuracy=0.7614917606244579\n",
      "   kneighborsclassifier__n_neighbors=5, Accuracy=0.7632263660017347\n",
      "   kneighborsclassifier__n_neighbors=6, Accuracy=0.769297484822203\n",
      "   kneighborsclassifier__n_neighbors=7, Accuracy=0.7727666955767563\n",
      "   kneighborsclassifier__n_neighbors=8, Accuracy=0.7649609713790113\n",
      "   kneighborsclassifier__n_neighbors=9, Accuracy=0.7718993928881179\n",
      "   kneighborsclassifier__n_neighbors=10, Accuracy=0.7632263660017347\n",
      "\n",
      "Fold 8:\n",
      "   kneighborsclassifier__n_neighbors=1, Accuracy=0.7415437987857763\n",
      "   kneighborsclassifier__n_neighbors=2, Accuracy=0.7337380745880312\n",
      "   kneighborsclassifier__n_neighbors=3, Accuracy=0.792714657415438\n",
      "   kneighborsclassifier__n_neighbors=4, Accuracy=0.7788378143972247\n",
      "   kneighborsclassifier__n_neighbors=5, Accuracy=0.8022549869904597\n",
      "   kneighborsclassifier__n_neighbors=6, Accuracy=0.7840416305290546\n",
      "   kneighborsclassifier__n_neighbors=7, Accuracy=0.8074588031222897\n",
      "   kneighborsclassifier__n_neighbors=8, Accuracy=0.8039895923677364\n",
      "   kneighborsclassifier__n_neighbors=9, Accuracy=0.8091934084995663\n",
      "   kneighborsclassifier__n_neighbors=10, Accuracy=0.8065915004336514\n",
      "\n",
      "Fold 9:\n",
      "   kneighborsclassifier__n_neighbors=1, Accuracy=0.7181266261925412\n",
      "   kneighborsclassifier__n_neighbors=2, Accuracy=0.7163920208152645\n",
      "   kneighborsclassifier__n_neighbors=3, Accuracy=0.7450130095403296\n",
      "   kneighborsclassifier__n_neighbors=4, Accuracy=0.738074588031223\n",
      "   kneighborsclassifier__n_neighbors=5, Accuracy=0.7580225498699046\n",
      "   kneighborsclassifier__n_neighbors=6, Accuracy=0.7554206418039896\n",
      "   kneighborsclassifier__n_neighbors=7, Accuracy=0.7701647875108413\n",
      "   kneighborsclassifier__n_neighbors=8, Accuracy=0.7554206418039896\n",
      "   kneighborsclassifier__n_neighbors=9, Accuracy=0.7675628794449263\n",
      "   kneighborsclassifier__n_neighbors=10, Accuracy=0.7675628794449263\n",
      "\n",
      "Fold 10:\n",
      "   kneighborsclassifier__n_neighbors=1, Accuracy=0.7250650477016479\n",
      "   kneighborsclassifier__n_neighbors=2, Accuracy=0.7189939288811795\n",
      "   kneighborsclassifier__n_neighbors=3, Accuracy=0.7614917606244579\n",
      "   kneighborsclassifier__n_neighbors=4, Accuracy=0.7502168256721596\n",
      "   kneighborsclassifier__n_neighbors=5, Accuracy=0.7745013009540329\n",
      "   kneighborsclassifier__n_neighbors=6, Accuracy=0.7745013009540329\n",
      "   kneighborsclassifier__n_neighbors=7, Accuracy=0.7779705117085863\n",
      "   kneighborsclassifier__n_neighbors=8, Accuracy=0.777103209019948\n",
      "   kneighborsclassifier__n_neighbors=9, Accuracy=0.777103209019948\n",
      "   kneighborsclassifier__n_neighbors=10, Accuracy=0.7762359063313097\n"
     ]
    }
   ],
   "source": [
    "# Crear un pipeline con escalado y clasificador KNN\n",
    "model = make_pipeline(StandardScaler(), KNeighborsClassifier())\n",
    "\n",
    "# Lista para almacenar las puntuaciones de accuracy en cada fold y para cada conjunto de parámetros\n",
    "accuracy_scores = []\n",
    "\n",
    "# Realizar la validación cruzada\n",
    "for fold, (train_idx, val_idx) in enumerate(metodo_control_cv.split(X, y)):\n",
    "    X_train_fold, X_val_fold = X.iloc[train_idx], X.iloc[val_idx]\n",
    "    y_train_fold, y_val_fold = y.iloc[train_idx], y.iloc[val_idx]\n",
    "\n",
    "    print(f\"\\nFold {fold + 1}:\")\n",
    "\n",
    "    for params in param_grid.values():\n",
    "        for param_value in params:\n",
    "            # Crear un modelo con el valor actual del parámetro\n",
    "            model.set_params(kneighborsclassifier__n_neighbors=param_value)\n",
    "\n",
    "            # Entrenar el modelo\n",
    "            model.fit(X_train_fold, y_train_fold)\n",
    "\n",
    "            # Evaluar el modelo en el conjunto de validación\n",
    "            accuracy = model.score(X_val_fold, y_val_fold)\n",
    "\n",
    "            # Imprimir la puntuación de accuracy para el valor actual del parámetro\n",
    "            print(f\"   {list(param_grid.keys())[0]}={param_value}, Accuracy={accuracy}\")\n",
    "\n",
    "            # Almacenar la puntuación de accuracy\n",
    "            accuracy_scores.append({'Fold': fold + 1, list(param_grid.keys())[0]: param_value, 'Accuracy': accuracy})\n",
    "\n"
   ]
  },
  {
   "cell_type": "code",
   "execution_count": 7,
   "metadata": {
    "tags": []
   },
   "outputs": [
    {
     "data": {
      "image/png": "[encoded data removed]",
      "text/plain": [
       "<Figure size 1000x600 with 1 Axes>"
      ]
     },
     "metadata": {},
     "output_type": "display_data"
    }
   ],
   "source": [
    "# Extraer los resultados del Grid Search\n",
    "resultados_df = pd.DataFrame(grid_search.cv_results_)\n",
    "\n",
    "# Obtener los valores relevantes\n",
    "parametros = resultados_df['param_kneighborsclassifier__n_neighbors']\n",
    "precision_media = resultados_df['mean_test_score']\n",
    "\n",
    "# Graficar la precisión en función del número de vecinos\n",
    "plt.figure(figsize=(10, 6))\n",
    "plt.plot(parametros, precision_media, marker='o')\n",
    "plt.title('Precisión vs Número de Vecinos en Grid Search')\n",
    "plt.xlabel('Número de Vecinos')\n",
    "plt.ylabel('Precisión Media')\n",
    "plt.grid(True)\n",
    "plt.show()"
   ]
  },
  {
   "cell_type": "code",
   "execution_count": 8,
   "metadata": {
    "tags": []
   },
   "outputs": [
    {
     "name": "stdout",
     "output_type": "stream",
     "text": [
      "Precisión en el conjunto de validación: 0.7803292894280762\n"
     ]
    }
   ],
   "source": [
    "# Obtener el mejor modelo\n",
    "best_model = grid_search.best_estimator_\n",
    "\n",
    "# Evaluar el modelo en el conjunto de validación\n",
    "y_pred = best_model.predict(X_val)\n",
    "accuracy = accuracy_score(y_val, y_pred)\n",
    "confusion_mat = confusion_matrix(y_val, y_pred)\n",
    "\n",
    "print(\"Precisión en el conjunto de validación:\", accuracy)\n",
    "precision_val['knn_tuneLength_10'] = accuracy## Validacion con un tuneLength 10"
   ]
  },
  {
   "cell_type": "code",
   "execution_count": 9,
   "metadata": {},
   "outputs": [
    {
     "name": "stdout",
     "output_type": "stream",
     "text": [
      "Precisión en el conjunto de validación: 0.7803292894280762\n"
     ]
    }
   ],
   "source": [
    "# Obtener el mejor modelo\n",
    "best_model = grid_search.best_estimator_\n",
    "\n",
    "# Evaluar el modelo en el conjunto de validación\n",
    "y_pred = best_model.predict(X_val)\n",
    "accuracy = accuracy_score(y_val, y_pred)\n",
    "confusion_mat = confusion_matrix(y_val, y_pred)\n",
    "\n",
    "print(\"Precisión en el conjunto de validación:\", accuracy)\n",
    "precision_val['knn_tuneLength_10'] = accuracy"
   ]
  }
 ],
 "metadata": {
  "colab": {
   "provenance": []
  },
  "kernelspec": {
   "display_name": "Python 3 (ipykernel)",
   "language": "python",
   "name": "python3"
  },
  "language_info": {
   "codemirror_mode": {
    "name": "ipython",
    "version": 3
   },
   "file_extension": ".py",
   "mimetype": "text/x-python",
   "name": "python",
   "nbconvert_exporter": "python",
   "pygments_lexer": "ipython3",
   "version": "3.11.4"
  }
 },
 "nbformat": 4,
 "nbformat_minor": 4
}
