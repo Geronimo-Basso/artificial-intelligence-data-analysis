{
 "cells": [
  {
   "cell_type": "markdown",
   "id": "f9fd1132-a18d-43c3-a575-d8573fe229b6",
   "metadata": {},
   "source": [
    "# Apartado 7\n",
    "Análisis comparativo de todos los modelos en train y en validation"
   ]
  },
  {
   "cell_type": "markdown",
   "id": "1b059709-11ee-4b84-92dc-68e4e73f9b6c",
   "metadata": {},
   "source": [
    "## Comparación de Modelos de Aprendizaje Automático\n",
    "\n",
    "En este análisis, comparamos cinco modelos de aprendizaje automático: Regresión Lineal, K-NN, Árbol de Decisión, SVM y Naive Bayes, utilizando un conjunto de datos de condiciones climatológicas. Cada modelo se evalúa en función de su precisión y características relevantes.\n",
    "\n",
    "### 1. Regresión Lineal\n",
    "- **Precisión**: Alrededor del 28.97% en promedio.\n",
    "- **Características**: Modelo simple y fácil de interpretar, pero muestra baja precisión para este conjunto de datos.\n",
    "- **Uso Ideal**: Mejor para relaciones lineales; parece no ser el más adecuado aquí debido a su baja precisión.\n",
    "\n",
    "### 2. K-NN (K-Nearest Neighbors)\n",
    "- **Precisión**: Alrededor del 47.89% en promedio.\n",
    "- **Características**: Modelo no paramétrico que es bueno para capturar relaciones no lineales.\n",
    "- **Uso Ideal**: Útil para conjuntos de datos donde las características similares predicen resultados similares; ofrece mejor precisión que la regresión lineal.\n",
    "\n",
    "### 3. Árbol de Decisión\n",
    "- **Precisión**: Entre 87.92% y 89.31%.\n",
    "- **Características**: Modelo altamente interpretable que puede capturar relaciones no lineales y complejas.\n",
    "- **Uso Ideal**: Excelente para problemas de clasificación y regresión; muestra la mayor precisión en este conjunto de datos.\n",
    "\n",
    "### 4. SVM (Máquinas de Vectores de Soporte)\n",
    "- **Precisión**: Alrededor del 41.24% en promedio.\n",
    "- **Características**: Efectivo en espacios de alta dimensión pero puede ser complejo de interpretar.\n",
    "- **Uso Ideal**: Adecuado para clasificación y regresión; sin embargo, muestra una precisión moderada en este caso.\n",
    "\n",
    "### 5. Naive Bayes\n",
    "- **Precisión**: Entre 66.89% y 67.48%.\n",
    "- **Características**: Basado en probabilidades y asume independencia entre predictores.\n",
    "- **Uso Ideal**: Bueno para clasificación; muestra una precisión moderadamente alta.\n",
    "\n",
    "### Conclusión\n",
    "El **Árbol de Decisión** demuestra ser el modelo más adecuado para este conjunto de datos, ofreciendo la mayor precisión. El **K-NN** también es una opción razonable. Sin embargo, la **Regresión Lineal**, **SVM** y **Naive Bayes** presentan una precisión más baja para este conjunto de datos en particular."
   ]
  },
  {
   "cell_type": "code",
   "execution_count": null,
   "id": "7c9503e4-c223-408f-b7d3-10455253bc70",
   "metadata": {},
   "outputs": [],
   "source": []
  }
 ],
 "metadata": {
  "kernelspec": {
   "display_name": "Python 3 (ipykernel)",
   "language": "python",
   "name": "python3"
  },
  "language_info": {
   "codemirror_mode": {
    "name": "ipython",
    "version": 3
   },
   "file_extension": ".py",
   "mimetype": "text/x-python",
   "name": "python",
   "nbconvert_exporter": "python",
   "pygments_lexer": "ipython3",
   "version": "3.11.4"
  }
 },
 "nbformat": 4,
 "nbformat_minor": 5
}
